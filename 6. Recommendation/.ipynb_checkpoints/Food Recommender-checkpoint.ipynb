{
 "cells": [
  {
   "cell_type": "markdown",
   "metadata": {},
   "source": [
    "### Import Essential Libraries\n",
    "\n",
    "Let us begin by importing the essential Python Libraries.\n",
    "\n",
    "> NumPy : Library for Numeric Computations in Python  \n",
    "> Pandas : Library for Data Acquisition and Preparation  \n",
    "> Matplotlib : Low-level library for Data Visualization  \n",
    "> Seaborn : Higher-level library for Data Visualization  "
   ]
  },
  {
   "cell_type": "code",
   "execution_count": 1,
   "metadata": {},
   "outputs": [],
   "source": [
    "import pandas as pd\n",
    "import numpy as np\n",
    "import seaborn as sb\n",
    "import matplotlib.pyplot as plt"
   ]
  },
  {
   "cell_type": "markdown",
   "metadata": {},
   "source": [
    "### Import Dataset (Item Data)\n",
    "\n",
    "List of all restaurants/stalls/hawkers scraped from HungryGoWhere with their respective information and google reviews (if present)."
   ]
  },
  {
   "cell_type": "code",
   "execution_count": 2,
   "metadata": {
    "scrolled": true
   },
   "outputs": [
    {
     "data": {
      "text/html": [
       "<div>\n",
       "<style scoped>\n",
       "    .dataframe tbody tr th:only-of-type {\n",
       "        vertical-align: middle;\n",
       "    }\n",
       "\n",
       "    .dataframe tbody tr th {\n",
       "        vertical-align: top;\n",
       "    }\n",
       "\n",
       "    .dataframe thead th {\n",
       "        text-align: right;\n",
       "    }\n",
       "</style>\n",
       "<table border=\"1\" class=\"dataframe\">\n",
       "  <thead>\n",
       "    <tr style=\"text-align: right;\">\n",
       "      <th></th>\n",
       "      <th>placeId</th>\n",
       "      <th>Stall Name</th>\n",
       "      <th>Cuisine</th>\n",
       "      <th>Cuisine 1</th>\n",
       "      <th>Cuisine 2</th>\n",
       "      <th>Cuisine 3</th>\n",
       "      <th>Shop Type</th>\n",
       "      <th>Address</th>\n",
       "      <th>Google Address</th>\n",
       "      <th>Average Review</th>\n",
       "      <th>Number of Reviews</th>\n",
       "    </tr>\n",
       "  </thead>\n",
       "  <tbody>\n",
       "    <tr>\n",
       "      <th>0</th>\n",
       "      <td>0</td>\n",
       "      <td>Fatty Cheong</td>\n",
       "      <td>[None]</td>\n",
       "      <td>NaN</td>\n",
       "      <td>NaN</td>\n",
       "      <td>NaN</td>\n",
       "      <td>Kiosk or Stall</td>\n",
       "      <td>#01-144 ABC Brickworks Food Centre Jalan Bukit...</td>\n",
       "      <td>6 Jalan Bukit Merah, #01-120, Singapore 150006</td>\n",
       "      <td>4.2</td>\n",
       "      <td>153.0</td>\n",
       "    </tr>\n",
       "    <tr>\n",
       "      <th>1</th>\n",
       "      <td>1</td>\n",
       "      <td>Mani Iyer Mess</td>\n",
       "      <td>['South Indian']</td>\n",
       "      <td>South Indian</td>\n",
       "      <td>NaN</td>\n",
       "      <td>NaN</td>\n",
       "      <td>Restaurant</td>\n",
       "      <td>#01-01 Little India Conservation Area Hindoo R...</td>\n",
       "      <td>Hindoo Rd</td>\n",
       "      <td>4.3</td>\n",
       "      <td>435.0</td>\n",
       "    </tr>\n",
       "    <tr>\n",
       "      <th>2</th>\n",
       "      <td>2</td>\n",
       "      <td>Stall #01-46</td>\n",
       "      <td>['Chinese', 'Snacks']</td>\n",
       "      <td>Chinese</td>\n",
       "      <td>Snacks</td>\n",
       "      <td>NaN</td>\n",
       "      <td>Kiosk or Stall</td>\n",
       "      <td>#01-46 Jalan Batu Food Centre Jalan Batu 432004</td>\n",
       "      <td>NaN</td>\n",
       "      <td>NaN</td>\n",
       "      <td>NaN</td>\n",
       "    </tr>\n",
       "    <tr>\n",
       "      <th>3</th>\n",
       "      <td>3</td>\n",
       "      <td>Wei Xiang Kitchen</td>\n",
       "      <td>['Chinese', 'Seafood']</td>\n",
       "      <td>Chinese</td>\n",
       "      <td>Seafood</td>\n",
       "      <td>NaN</td>\n",
       "      <td>Kiosk or Stall</td>\n",
       "      <td>#01-106 ABC Brickworks Food Centre Jalan Bukit...</td>\n",
       "      <td>6 Jalan Bukit Merah, #01-106, Singapore 150006</td>\n",
       "      <td>5.0</td>\n",
       "      <td>1.0</td>\n",
       "    </tr>\n",
       "    <tr>\n",
       "      <th>4</th>\n",
       "      <td>4</td>\n",
       "      <td>The Thai Table</td>\n",
       "      <td>['Asian', 'Indochinese', 'Thai']</td>\n",
       "      <td>Asian</td>\n",
       "      <td>Indochinese</td>\n",
       "      <td>Thai</td>\n",
       "      <td>Restaurant</td>\n",
       "      <td>Picardy Garden Jalan Pari Burong 488686</td>\n",
       "      <td>20 Jln Pari Burong, Singapore 488686</td>\n",
       "      <td>4.2</td>\n",
       "      <td>34.0</td>\n",
       "    </tr>\n",
       "  </tbody>\n",
       "</table>\n",
       "</div>"
      ],
      "text/plain": [
       "   placeId         Stall Name                           Cuisine     Cuisine 1  \\\n",
       "0        0       Fatty Cheong                            [None]           NaN   \n",
       "1        1     Mani Iyer Mess                  ['South Indian']  South Indian   \n",
       "2        2       Stall #01-46             ['Chinese', 'Snacks']       Chinese   \n",
       "3        3  Wei Xiang Kitchen            ['Chinese', 'Seafood']       Chinese   \n",
       "4        4     The Thai Table  ['Asian', 'Indochinese', 'Thai']         Asian   \n",
       "\n",
       "     Cuisine 2 Cuisine 3       Shop Type  \\\n",
       "0          NaN       NaN  Kiosk or Stall   \n",
       "1          NaN       NaN      Restaurant   \n",
       "2       Snacks       NaN  Kiosk or Stall   \n",
       "3      Seafood       NaN  Kiosk or Stall   \n",
       "4  Indochinese      Thai      Restaurant   \n",
       "\n",
       "                                             Address  \\\n",
       "0  #01-144 ABC Brickworks Food Centre Jalan Bukit...   \n",
       "1  #01-01 Little India Conservation Area Hindoo R...   \n",
       "2    #01-46 Jalan Batu Food Centre Jalan Batu 432004   \n",
       "3  #01-106 ABC Brickworks Food Centre Jalan Bukit...   \n",
       "4            Picardy Garden Jalan Pari Burong 488686   \n",
       "\n",
       "                                   Google Address  Average Review  \\\n",
       "0  6 Jalan Bukit Merah, #01-120, Singapore 150006             4.2   \n",
       "1                                       Hindoo Rd             4.3   \n",
       "2                                             NaN             NaN   \n",
       "3  6 Jalan Bukit Merah, #01-106, Singapore 150006             5.0   \n",
       "4            20 Jln Pari Burong, Singapore 488686             4.2   \n",
       "\n",
       "   Number of Reviews  \n",
       "0              153.0  \n",
       "1              435.0  \n",
       "2                NaN  \n",
       "3                1.0  \n",
       "4               34.0  "
      ]
     },
     "execution_count": 2,
     "metadata": {},
     "output_type": "execute_result"
    }
   ],
   "source": [
    "itemdata = pd.read_csv(\"Final_list.csv\")\n",
    "itemdata.head()"
   ]
  },
  {
   "cell_type": "code",
   "execution_count": 3,
   "metadata": {},
   "outputs": [
    {
     "name": "stdout",
     "output_type": "stream",
     "text": [
      "<class 'pandas.core.frame.DataFrame'>\n",
      "RangeIndex: 20849 entries, 0 to 20848\n",
      "Data columns (total 11 columns):\n",
      " #   Column             Non-Null Count  Dtype  \n",
      "---  ------             --------------  -----  \n",
      " 0   placeId            20849 non-null  int64  \n",
      " 1   Stall Name         20849 non-null  object \n",
      " 2   Cuisine            20849 non-null  object \n",
      " 3   Cuisine 1          20361 non-null  object \n",
      " 4   Cuisine 2          14094 non-null  object \n",
      " 5   Cuisine 3          7476 non-null   object \n",
      " 6   Shop Type          20849 non-null  object \n",
      " 7   Address            20849 non-null  object \n",
      " 8   Google Address     17941 non-null  object \n",
      " 9   Average Review     14794 non-null  float64\n",
      " 10  Number of Reviews  14794 non-null  float64\n",
      "dtypes: float64(2), int64(1), object(8)\n",
      "memory usage: 1.7+ MB\n"
     ]
    }
   ],
   "source": [
    "itemdata.info()"
   ]
  },
  {
   "cell_type": "code",
   "execution_count": 4,
   "metadata": {},
   "outputs": [
    {
     "data": {
      "text/html": [
       "<div>\n",
       "<style scoped>\n",
       "    .dataframe tbody tr th:only-of-type {\n",
       "        vertical-align: middle;\n",
       "    }\n",
       "\n",
       "    .dataframe tbody tr th {\n",
       "        vertical-align: top;\n",
       "    }\n",
       "\n",
       "    .dataframe thead th {\n",
       "        text-align: right;\n",
       "    }\n",
       "</style>\n",
       "<table border=\"1\" class=\"dataframe\">\n",
       "  <thead>\n",
       "    <tr style=\"text-align: right;\">\n",
       "      <th></th>\n",
       "      <th>Average Review</th>\n",
       "      <th>Number of Reviews</th>\n",
       "    </tr>\n",
       "  </thead>\n",
       "  <tbody>\n",
       "    <tr>\n",
       "      <th>count</th>\n",
       "      <td>14794.000000</td>\n",
       "      <td>14794.000000</td>\n",
       "    </tr>\n",
       "    <tr>\n",
       "      <th>mean</th>\n",
       "      <td>3.994748</td>\n",
       "      <td>136.724280</td>\n",
       "    </tr>\n",
       "    <tr>\n",
       "      <th>std</th>\n",
       "      <td>0.633002</td>\n",
       "      <td>195.239541</td>\n",
       "    </tr>\n",
       "    <tr>\n",
       "      <th>min</th>\n",
       "      <td>1.000000</td>\n",
       "      <td>1.000000</td>\n",
       "    </tr>\n",
       "    <tr>\n",
       "      <th>25%</th>\n",
       "      <td>3.800000</td>\n",
       "      <td>9.000000</td>\n",
       "    </tr>\n",
       "    <tr>\n",
       "      <th>50%</th>\n",
       "      <td>4.100000</td>\n",
       "      <td>48.000000</td>\n",
       "    </tr>\n",
       "    <tr>\n",
       "      <th>75%</th>\n",
       "      <td>4.400000</td>\n",
       "      <td>186.000000</td>\n",
       "    </tr>\n",
       "    <tr>\n",
       "      <th>max</th>\n",
       "      <td>5.000000</td>\n",
       "      <td>998.000000</td>\n",
       "    </tr>\n",
       "  </tbody>\n",
       "</table>\n",
       "</div>"
      ],
      "text/plain": [
       "       Average Review  Number of Reviews\n",
       "count    14794.000000       14794.000000\n",
       "mean         3.994748         136.724280\n",
       "std          0.633002         195.239541\n",
       "min          1.000000           1.000000\n",
       "25%          3.800000           9.000000\n",
       "50%          4.100000          48.000000\n",
       "75%          4.400000         186.000000\n",
       "max          5.000000         998.000000"
      ]
     },
     "execution_count": 4,
     "metadata": {},
     "output_type": "execute_result"
    }
   ],
   "source": [
    "review = itemdata[['placeId', 'Average Review', 'Number of Reviews']]\n",
    "review[['Average Review', 'Number of Reviews']].describe()"
   ]
  },
  {
   "cell_type": "code",
   "execution_count": 5,
   "metadata": {},
   "outputs": [
    {
     "data": {
      "image/png": "[encoded data removed]",
      "text/plain": [
       "<Figure size 864x864 with 1 Axes>"
      ]
     },
     "metadata": {
      "needs_background": "light"
     },
     "output_type": "display_data"
    }
   ],
   "source": [
    "# Categorical plot without missing values\n",
    "sb.catplot(x = 'Average Review', data = review, kind = \"count\", height = 12)\n",
    "plt.show()"
   ]
  },
  {
   "cell_type": "code",
   "execution_count": 6,
   "metadata": {},
   "outputs": [
    {
     "name": "stderr",
     "output_type": "stream",
     "text": [
      "<ipython-input-6-b7353c8b47ea>:1: SettingWithCopyWarning: \n",
      "A value is trying to be set on a copy of a slice from a DataFrame.\n",
      "Try using .loc[row_indexer,col_indexer] = value instead\n",
      "\n",
      "See the caveats in the documentation: https://pandas.pydata.org/pandas-docs/stable/user_guide/indexing.html#returning-a-view-versus-a-copy\n",
      "  review['Average Review'] = review['Average Review'].round()\n"
     ]
    },
    {
     "data": {
      "text/html": [
       "<div>\n",
       "<style scoped>\n",
       "    .dataframe tbody tr th:only-of-type {\n",
       "        vertical-align: middle;\n",
       "    }\n",
       "\n",
       "    .dataframe tbody tr th {\n",
       "        vertical-align: top;\n",
       "    }\n",
       "\n",
       "    .dataframe thead th {\n",
       "        text-align: right;\n",
       "    }\n",
       "</style>\n",
       "<table border=\"1\" class=\"dataframe\">\n",
       "  <thead>\n",
       "    <tr style=\"text-align: right;\">\n",
       "      <th></th>\n",
       "      <th>placeId</th>\n",
       "      <th>Average Review</th>\n",
       "      <th>Number of Reviews</th>\n",
       "    </tr>\n",
       "  </thead>\n",
       "  <tbody>\n",
       "    <tr>\n",
       "      <th>0</th>\n",
       "      <td>0</td>\n",
       "      <td>4.0</td>\n",
       "      <td>153.0</td>\n",
       "    </tr>\n",
       "    <tr>\n",
       "      <th>1</th>\n",
       "      <td>1</td>\n",
       "      <td>4.0</td>\n",
       "      <td>435.0</td>\n",
       "    </tr>\n",
       "    <tr>\n",
       "      <th>2</th>\n",
       "      <td>2</td>\n",
       "      <td>NaN</td>\n",
       "      <td>NaN</td>\n",
       "    </tr>\n",
       "    <tr>\n",
       "      <th>3</th>\n",
       "      <td>3</td>\n",
       "      <td>5.0</td>\n",
       "      <td>1.0</td>\n",
       "    </tr>\n",
       "    <tr>\n",
       "      <th>4</th>\n",
       "      <td>4</td>\n",
       "      <td>4.0</td>\n",
       "      <td>34.0</td>\n",
       "    </tr>\n",
       "  </tbody>\n",
       "</table>\n",
       "</div>"
      ],
      "text/plain": [
       "   placeId  Average Review  Number of Reviews\n",
       "0        0             4.0              153.0\n",
       "1        1             4.0              435.0\n",
       "2        2             NaN                NaN\n",
       "3        3             5.0                1.0\n",
       "4        4             4.0               34.0"
      ]
     },
     "execution_count": 6,
     "metadata": {},
     "output_type": "execute_result"
    }
   ],
   "source": [
    "review['Average Review'] = review['Average Review'].round() \n",
    "review.head()"
   ]
  },
  {
   "cell_type": "code",
   "execution_count": 7,
   "metadata": {},
   "outputs": [
    {
     "data": {
      "image/png": "[encoded data removed]",
      "text/plain": [
       "<Figure size 1080x1080 with 1 Axes>"
      ]
     },
     "metadata": {
      "needs_background": "light"
     },
     "output_type": "display_data"
    }
   ],
   "source": [
    "plt.figure(figsize = (15,15))\n",
    "sb.histplot(data = review, x = \"Number of Reviews\", hue = 'Average Review', palette=[\"red\", \"blue\", \"green\", \"yellow\", \"orange\"])\n",
    "plt.show()"
   ]
  },
  {
   "cell_type": "markdown",
   "metadata": {},
   "source": [
    "## Building a Food Recommendation System\n",
    "\n",
    "Surpr!se recommendation system used. Collaborative filtering method. Memory based. User-user & Item-item based. Definitions can be found at the bottom. SVD & KNN model implemented.\n",
    "\n",
    "Keep in mind that in an approach based **purely** on collaborative filtering, the similarity is **not calculated using factors like the age of users, cuisine of the stall, or any other data about users or items**. It is **calculated only on the basis of the rating (explicit or implicit) a user gives to an item**. For example, two users can be considered similar if they give the same ratings to ten stalls despite there being a big difference in their age.\n",
    "\n",
    "SVD & KNN model are meant for collaborative filtering. "
   ]
  },
  {
   "cell_type": "markdown",
   "metadata": {},
   "source": [
    "### Import Libraries\n",
    "\n",
    "Import basic libraries for data manipulation. Most basic libraries has been imported at the start."
   ]
  },
  {
   "cell_type": "code",
   "execution_count": 8,
   "metadata": {},
   "outputs": [],
   "source": [
    "# Installation\n",
    "# pip install scikit-surprise"
   ]
  },
  {
   "cell_type": "code",
   "execution_count": 9,
   "metadata": {},
   "outputs": [],
   "source": [
    "%matplotlib inline"
   ]
  },
  {
   "cell_type": "markdown",
   "metadata": {},
   "source": [
    "### Import Dataset (Rating Data)\n",
    "\n",
    "Data description: \n",
    "\n",
    "> **userId** : Id of stimulated user    \n",
    "> **placeId** : Id of stall reviewed      \n",
    "> **rating** : Review given by user to that stall\n",
    "                            \n",
    "---\n",
    "\n",
    "Datasets imported: (for easier tracking)\n",
    "\n",
    "> **itemdata** : Information on each of the 20849 stalls in SG.\n",
    "\n",
    "Columns in-order: placeId, Stall Name, Cuisine, Cuisine 1, Cuisine 2, Cuisine 3, Shop Type, Address, Google Address, Average Review, Number of Reviews\n",
    "\n",
    "> **ratingdata** : Rating data for 20849 stalls by 2000 users.  \n",
    "\n",
    "Columns in-order: userId, placeId, rating\n",
    "\n",
    "> **userdata** : userId, character,\tage, address, eatOut, drive\n"
   ]
  },
  {
   "cell_type": "markdown",
   "metadata": {},
   "source": [
    "The following dataset containing reviews generated for stalls by stimulated users is contributed by Nicholas. : )"
   ]
  },
  {
   "cell_type": "code",
   "execution_count": 10,
   "metadata": {
    "scrolled": true
   },
   "outputs": [
    {
     "data": {
      "text/html": [
       "<div>\n",
       "<style scoped>\n",
       "    .dataframe tbody tr th:only-of-type {\n",
       "        vertical-align: middle;\n",
       "    }\n",
       "\n",
       "    .dataframe tbody tr th {\n",
       "        vertical-align: top;\n",
       "    }\n",
       "\n",
       "    .dataframe thead th {\n",
       "        text-align: right;\n",
       "    }\n",
       "</style>\n",
       "<table border=\"1\" class=\"dataframe\">\n",
       "  <thead>\n",
       "    <tr style=\"text-align: right;\">\n",
       "      <th></th>\n",
       "      <th>userId</th>\n",
       "      <th>placeId</th>\n",
       "      <th>rating</th>\n",
       "    </tr>\n",
       "  </thead>\n",
       "  <tbody>\n",
       "    <tr>\n",
       "      <th>0</th>\n",
       "      <td>0</td>\n",
       "      <td>12029</td>\n",
       "      <td>4.9</td>\n",
       "    </tr>\n",
       "    <tr>\n",
       "      <th>1</th>\n",
       "      <td>2</td>\n",
       "      <td>13862</td>\n",
       "      <td>4.0</td>\n",
       "    </tr>\n",
       "    <tr>\n",
       "      <th>2</th>\n",
       "      <td>3</td>\n",
       "      <td>5251</td>\n",
       "      <td>4.0</td>\n",
       "    </tr>\n",
       "    <tr>\n",
       "      <th>3</th>\n",
       "      <td>4</td>\n",
       "      <td>6612</td>\n",
       "      <td>4.6</td>\n",
       "    </tr>\n",
       "    <tr>\n",
       "      <th>4</th>\n",
       "      <td>5</td>\n",
       "      <td>15110</td>\n",
       "      <td>5.0</td>\n",
       "    </tr>\n",
       "  </tbody>\n",
       "</table>\n",
       "</div>"
      ],
      "text/plain": [
       "   userId  placeId  rating\n",
       "0       0    12029     4.9\n",
       "1       2    13862     4.0\n",
       "2       3     5251     4.0\n",
       "3       4     6612     4.6\n",
       "4       5    15110     5.0"
      ]
     },
     "execution_count": 10,
     "metadata": {},
     "output_type": "execute_result"
    }
   ],
   "source": [
    "ratingdata = pd.read_csv(\"Food Reviewers.csv\")\n",
    "ratingdata = ratingdata.drop(['Unnamed: 0'], axis = 1)\n",
    "ratingdata = ratingdata.rename(columns = {'StallId' : 'placeId'})\n",
    "ratingdata = ratingdata.rename(columns = {'UserId' : 'userId'})\n",
    "ratingdata = ratingdata.rename(columns = {'Rating' : 'rating'})\n",
    "ratingdata.head()"
   ]
  },
  {
   "cell_type": "markdown",
   "metadata": {},
   "source": [
    "This dataset does not look like the full matrix with lots of missing information. This is because there are so many missing values, hence easier to use the sparse format. This sparse format is the input that matrix factorisation methods require, rather than the full matrix, this is because they only use the non-missing matrix entries."
   ]
  },
  {
   "cell_type": "code",
   "execution_count": 11,
   "metadata": {
    "scrolled": true
   },
   "outputs": [
    {
     "name": "stdout",
     "output_type": "stream",
     "text": [
      "<class 'pandas.core.frame.DataFrame'>\n",
      "RangeIndex: 281598 entries, 0 to 281597\n",
      "Data columns (total 3 columns):\n",
      " #   Column   Non-Null Count   Dtype  \n",
      "---  ------   --------------   -----  \n",
      " 0   userId   281598 non-null  int64  \n",
      " 1   placeId  281598 non-null  int64  \n",
      " 2   rating   281598 non-null  float64\n",
      "dtypes: float64(1), int64(2)\n",
      "memory usage: 6.4 MB\n"
     ]
    }
   ],
   "source": [
    "ratingdata.info()"
   ]
  },
  {
   "cell_type": "markdown",
   "metadata": {},
   "source": [
    "### Create a Surpr!se Dataset\n",
    "\n",
    "In order to train recommender systems with Surprise, we need to create a Dataset object. \n",
    "\n",
    "A Surprise Dataset object is a dataset that contains the following fields in this order:\n",
    "1. User Ids\n",
    "2. Place(item) Ids\n",
    "3. Corresponding rating (on a scale of 0-5)"
   ]
  },
  {
   "cell_type": "code",
   "execution_count": 12,
   "metadata": {
    "scrolled": true
   },
   "outputs": [],
   "source": [
    "from surprise import Dataset\n",
    "from surprise import Reader\n",
    "\n",
    "reader = Reader(rating_scale=(0, 5))\n",
    "data = Dataset.load_from_df(ratingdata[['userId', 'placeId', 'rating']], reader)"
   ]
  },
  {
   "cell_type": "markdown",
   "metadata": {},
   "source": [
    "### User-User Based (SVD)\n",
    "\n",
    "Guide followed: (Main guide) https://towardsdatascience.com/how-you-can-build-simple-recommender-systems-with-surprise-b0d32a8e4802 (SVD)\n",
    "\n",
    "(Sub guide) https://blog.cambridgespark.com/tutorial-practical-introduction-to-recommender-systems-dbe22848392b (SVD++)"
   ]
  },
  {
   "cell_type": "raw",
   "metadata": {
    "scrolled": false
   },
   "source": [
    "from surprise import SVD\n",
    "\n",
    "# n_epochs – The number of iteration of the SVD procedure. Default is 20.                     \n",
    "# lr_all – The learning rate for all parameters. Default is 0.005.              \n",
    "# reg_all – The regularization term for all parameters. Default is 0.02.\n",
    "\n",
    "svd = SVD(verbose=True, n_epochs=19, lr_all=0.07, reg_all=0.3) # Fine Tuned\n",
    "# Mean RMSE: 1.2112\n",
    "# Mean MAE: 0.9592"
   ]
  },
  {
   "cell_type": "markdown",
   "metadata": {},
   "source": [
    "### Training and Cross-Validating a Simple SVD Model\n",
    "\n",
    "We can train and cross-validate a model that performs SVD (singular value decomposition) in order to build a recommendation system in just a few lines of code. SVD is a popular matrix factorization algorithm that can be used for recommender systems.\n",
    "\n",
    "An algorithm like SVD builds a recommendation system by allowing us to “fill in the gaps” in the rating matrix, predicting the ratings that each user would assign to each item in the dataset. Recommender systems that use matrix factorization generally follow a pattern where a matrix of ratings is factored into a product of matrices representing latent factors for the items (in this case stalls) and the users. "
   ]
  },
  {
   "cell_type": "markdown",
   "metadata": {},
   "source": [
    "### Cross Validation\n",
    "\n",
    "Measures the accuracy of the ratings predicted.\n",
    "\n",
    "One of the approaches to measure the accuracy of our result is the **Root Mean Square Error (RMSE)**, in which we predict ratings for a test dataset of user-item pairs whose rating values are already known. The difference between the known value and the predicted value would be the error. Square all the error values for the test set, find the average (or mean), and then take the square root of that average to get the RMSE.\n",
    "\n",
    "Another metric to measure the accuracy is **Mean Absolute Error (MAE)**, in which you find the magnitude of error by finding its absolute value and then taking the average of all error values.\n",
    "\n",
    "An epoch is a term used in machine learning and indicates the number of passes of the entire training dataset the machine learning algorithm has completed. The lower the RMSE, the better."
   ]
  },
  {
   "cell_type": "raw",
   "metadata": {
    "scrolled": true
   },
   "source": [
    "from surprise.model_selection import cross_validate\n",
    "# Cross-validate an SVD model using k-fold cross-validation\n",
    "\n",
    "cross_validate(svd, data, measures=['RMSE', 'MAE'], cv=10, verbose=True) \n",
    "# cv=10 is said to result in a model skill estimate with low bias and modest variance"
   ]
  },
  {
   "cell_type": "markdown",
   "metadata": {},
   "source": [
    "We are here evaluating the average RMSE and MAE over a 10-fold cross-validation procedure, but any cross-validation iterator can used. "
   ]
  },
  {
   "cell_type": "markdown",
   "metadata": {},
   "source": [
    "### Tune algorithm parameters with GridSearchCV\n",
    "\n",
    "In surprise, tuning is performed using a function called GridSearchCV, which picks the constants which perform the best at predicting a held out testset. This means constant values to try need to be predefined."
   ]
  },
  {
   "cell_type": "raw",
   "metadata": {},
   "source": [
    "numpy.linspace(start, stop, num=50, endpoint=True, retstep=False, dtype=None, axis=0)"
   ]
  },
  {
   "cell_type": "markdown",
   "metadata": {},
   "source": [
    "Return evenly spaced numbers over a specified interval.          \n",
    "Return num evenly spaced samples, calculated over the interval [start, stop].             \n",
    "The endpoint of the interval can optionally be excluded."
   ]
  },
  {
   "cell_type": "markdown",
   "metadata": {},
   "source": [
    "**DO NOT RUN THE CODE BELOW UNLESS YOU PLAN TO WAIT**"
   ]
  },
  {
   "cell_type": "raw",
   "metadata": {},
   "source": [
    "from surprise.model_selection import GridSearchCV\n",
    "\n",
    "param_grid = {'n_epochs': range(19,20), 'lr_all': np.linspace(0.05, 0.1, 5), 'reg_all': np.linspace(0.2, 0.4, 3)}\n",
    "gs = GridSearchCV(SVD, param_grid, measures=['rmse', 'mae'], cv=3)\n",
    "gs.fit(data)\n",
    "\n",
    "# Best RMSE score\n",
    "print(gs.best_score['rmse'])\n",
    "# Combination of parameters that gave the best RMSE score\n",
    "print(gs.best_params['rmse'])\n",
    "\n",
    "# Best MAE score\n",
    "print(gs.best_score['mae'])\n",
    "# Combination of parameters that gave the best MAE score\n",
    "print(gs.best_params['mae'])"
   ]
  },
  {
   "cell_type": "markdown",
   "metadata": {},
   "source": [
    "After running the code above, we can \n",
    "EITHER simply tune the parameters for the SVD algorithm above manually to the optimal set of parameters that gives us the best RMSE score.\n",
    "OR we can also train the model on the entire dataset using the fit method after converting the dataset for cross-validation into a Surprise Trainset object using the build_full_trainset method. Once fit () has been called, the best_estimator attribute gives us a SVD algorithm instance with the optimal set of parameters that yields the best RMSE score. "
   ]
  },
  {
   "cell_type": "raw",
   "metadata": {},
   "source": [
    "svd = gs.best_estimator['rmse']\n",
    "trainset = data.build_full_trainset()\n",
    "svd.fit(trainset)"
   ]
  },
  {
   "cell_type": "markdown",
   "metadata": {},
   "source": [
    "### Generating Rating Predictions using SVD model\n",
    "\n",
    "With the trained SVD model, we can use it to predict the rating a user would assign to a stall given an userId (uid) and an placeId (iid)."
   ]
  },
  {
   "cell_type": "raw",
   "metadata": {},
   "source": [
    "svd.predict(uid=0, iid=0)"
   ]
  },
  {
   "cell_type": "markdown",
   "metadata": {},
   "source": [
    "The above code returns the Prediction, which contains a field called est that indicates the estimated review for this specific user at this particular stall.\n",
    "\n",
    "From the above, we can see that the model predicted that userId = 0 would give a ~4 star rating for the placeId = 0."
   ]
  },
  {
   "cell_type": "raw",
   "metadata": {},
   "source": [
    "import pickle\n",
    "\n",
    "outfile = open(\"svd_model.pkl\", \"wb\")\n",
    "pickle.dump(svd, outfile)\n",
    "outfile.close()"
   ]
  },
  {
   "cell_type": "markdown",
   "metadata": {},
   "source": [
    "### Item-Item Based (KNN)\n",
    "\n",
    "Surprise does have a variety algorithms to go with, including SVD, Non-Negative Matrix Factorization and more, but the k-NNs are the only ones that support item-item. \n",
    "\n",
    "There aren’t a ton of parameters to tune with Surprise’s k-NN. Basically you can adjust the maximum and minimum number of neighbors (k) and the similarity metric you’re using. There are a few other parameters we can adjust under our similarity options, but the most important for our purposes is the “user_based” flag. This determines whether we’re computing similarity between users or items. In this case, “user_based” is set to “False”.\n",
    "\n",
    "For more information on KNN algorithms and similarity options, refer to the notes at the bottom.\n",
    "\n",
    "Main guide: https://towardsdatascience.com/how-to-build-a-memory-based-recommendation-system-using-python-surprise-55f3257b2cf4\n",
    "\n",
    "Sub guide: https://medium.com/@jmcneilkeller/item-item-recommendation-with-surprise-4bf365355d96"
   ]
  },
  {
   "cell_type": "raw",
   "metadata": {},
   "source": [
    "from surprise import KNNBasic, KNNWithMeans, KNNBaseline, KNNWithZScore\n",
    "\n",
    "new_k = 40 # Default \n",
    "new_min_k = 1 # Default\n",
    "\n",
    "# To use item-based cosine similarity\n",
    "sim_options = { # Fine Tuned\n",
    "    \"name\": \"msd\",\n",
    "    \"user_based\": False,  # Compute similarities between items\n",
    "    \"min_support\": 1\n",
    "}\n",
    "knnwm = KNNWithMeans(k = new_k, min_k = new_min_k, sim_options=sim_options)"
   ]
  },
  {
   "cell_type": "markdown",
   "metadata": {},
   "source": [
    "### Training and Cross-Validating a Simple KNNWithMeans Model"
   ]
  },
  {
   "cell_type": "raw",
   "metadata": {},
   "source": [
    "cross_validate(knnwm, data, measures=['RMSE', 'MAE'], cv=3, verbose=True)"
   ]
  },
  {
   "cell_type": "markdown",
   "metadata": {},
   "source": [
    "### Tune algorithm parameters with GridSearchCV\n",
    "\n",
    "**DO NOT RUN THE CODE BELOW UNLESS YOU PLAN TO WAIT OVERNIGHT OR RESTART THE NOTEBOOK/CELL**"
   ]
  },
  {
   "cell_type": "raw",
   "metadata": {},
   "source": [
    "from surprise.model_selection import GridSearchCV\n",
    "\n",
    "sim_options = {\n",
    "    \"name\": [\"msd\", \"cosine\", \"pearson\"],\n",
    "    \"min_support\": [1, 2],\n",
    "    \"user_based\": [False], # \"user_based\": True not considered \n",
    "}\n",
    " \n",
    "param_grid = {\"sim_options\": sim_options}\n",
    "\n",
    "gs = GridSearchCV(KNNWithMeans, param_grid, measures=[\"rmse\", \"mae\"], cv=3)\n",
    "gs.fit(data)\n",
    "\n",
    "print(gs.best_score[\"rmse\"])\n",
    "print(gs.best_params[\"rmse\"])"
   ]
  },
  {
   "cell_type": "raw",
   "metadata": {},
   "source": [
    "knnwm = gs.best_estimator['rmse']\n",
    "knnwm.fit(trainset)"
   ]
  },
  {
   "cell_type": "markdown",
   "metadata": {},
   "source": [
    "### Generating Rating Predictions using KNNWithMeans model"
   ]
  },
  {
   "cell_type": "raw",
   "metadata": {},
   "source": [
    "knnwm.predict(uid=0, iid=0)"
   ]
  },
  {
   "cell_type": "markdown",
   "metadata": {},
   "source": [
    "The above code returns the Prediction, which contains a field called est that indicates the estimated review for this specific user at this particular stall.\n",
    "\n",
    "From the above, we can see that the model predicted that userId = 0 would give a ~4 star rating for the placeId = 0. "
   ]
  },
  {
   "cell_type": "markdown",
   "metadata": {},
   "source": [
    "## Generate Place Recommendations\n",
    "\n",
    "With the above model, we can create a function for generating place recommendations. Content based filtering is incorported to provide users a more personalised experience by taking into factors like address, age etc."
   ]
  },
  {
   "cell_type": "raw",
   "metadata": {},
   "source": [
    "pip install googlemaps"
   ]
  },
  {
   "cell_type": "raw",
   "metadata": {},
   "source": [
    "from webdriver_manager.chrome import ChromeDriverManager\n",
    "from time import sleep\n",
    "\n",
    "from selenium import webdriver\n",
    "from selenium.webdriver.common.keys import Keys\n",
    "from selenium.webdriver.common.by import By\n",
    "from selenium.webdriver.support.ui import WebDriverWait\n",
    "from selenium.webdriver.chrome.options import Options  \n",
    "from selenium.webdriver.support import expected_conditions as EC\n",
    "from selenium.webdriver.support.ui import Select\n",
    "from selenium.common.exceptions import UnexpectedAlertPresentException"
   ]
  },
  {
   "cell_type": "raw",
   "metadata": {},
   "source": [
    "def get_distance(driver, start_point, end_point, travel_type):\n",
    "#     chrome_options = Options()\n",
    "#     chrome_options.add_argument(\"--headless\") \n",
    "    \n",
    "#     driver = webdriver.Chrome(ChromeDriverManager().install(), options = chrome_options)\n",
    "    \n",
    "    url_link = f\"https://www.google.com.sg/maps/dir/{start_point}/{end_point}\"\n",
    "    driver.get(url_link)\n",
    "    sleep(0.5)\n",
    "    travel_modes = WebDriverWait(driver,2).until(\n",
    "        EC.presence_of_all_elements_located((By.XPATH, (\"//button\"))))\n",
    "    \n",
    "    # 2: Car, 3: Public Transport\n",
    "    \n",
    "    selected = travel_modes[travel_type].click()\n",
    "    \n",
    "    if travel_type == 2:\n",
    "        sleep(0.5)\n",
    "        time = WebDriverWait(driver,2).until(\n",
    "            EC.presence_of_element_located((By.XPATH, \"//span[@jstcache='271']\"))).text\n",
    "    \n",
    "    else: # travel_type == 3\n",
    "        sleep(0.5)\n",
    "        time = WebDriverWait(driver,3).until(\n",
    "            EC.presence_of_element_located((By.XPATH, \"//div[@class='section-directions-trip-duration']\"))).text\n",
    "    \n",
    "#     driver.quit()\n",
    "    \n",
    "    return time"
   ]
  },
  {
   "cell_type": "raw",
   "metadata": {},
   "source": [
    "print(get_distance(driver, \"Jurong East\", \"NTU\", 2))"
   ]
  },
  {
   "cell_type": "raw",
   "metadata": {},
   "source": [
    "import difflib\n",
    "import random\n",
    "\n",
    "def get_thresh(userId): \n",
    "    '''\n",
    "    Returns the threshold for recommendation for that user based on that user's character.\n",
    "    '''\n",
    "    character = userdata[userdata['userId'] == userId]['character'].values[0]\n",
    "    thresh = character + 4\n",
    "    return thresh \n",
    "\n",
    "def get_place_info(placeId, metadata): \n",
    "    \n",
    "    \"\"\"\n",
    "    Returns some basic information about the stall given the placeId and the metadata dataframe.\n",
    "    \"\"\"\n",
    "    \n",
    "    place_info = metadata[metadata['placeId'] == placeId][['placeId', 'Stall Name', \n",
    "                                                    'Cuisine', 'Shop Type', 'Address']]\n",
    "    return place_info.to_dict(orient='records')\n",
    "\n",
    "def predict_review(userId, placeId, model, metadata):\n",
    "    \n",
    "    \"\"\"\n",
    "    Predicts the rating (on a scale of 0-5) that a user would assign to a stall. \n",
    "    \"\"\"\n",
    "    \n",
    "    review_prediction = model.predict(uid = userId, iid = placeId)\n",
    "    return review_prediction.est\n",
    "\n",
    "def generate_recommendation(userId, model_1, model_2, metadata, numTrail):\n",
    "    \n",
    "    \"\"\"\n",
    "    Generates a stall recommendation for a user based on a rating threshold. Only\n",
    "    stalls with a predicted rating at or above the threshold will be recommended.\n",
    "    \"\"\"\n",
    "    # Create empty list for storage of placeIds\n",
    "    placeList = list()\n",
    "    # Storage for info on placeIds in placeList\n",
    "    placeDict = dict()\n",
    "    \n",
    "    # Get a list of all placeIds\n",
    "    placeId_list = list(metadata['placeId'].values)\n",
    "    \n",
    "    if (userId>len(userdata)-1): # New user\n",
    "        for trail in range(numTrail):\n",
    "            # Remove the placeIds in placeList\n",
    "            placeId_list = np.setdiff1d(placeId_list, placeList)\n",
    "            random.shuffle(placeId_list)\n",
    "            for placeId in placeId_list:\n",
    "                if (itemdata['Average Review'][placeId]>=4 and itemdata['Number of Reviews'][placeId]>100):\n",
    "                    placeList.extend([placeId])\n",
    "                    placeDict[trail] = get_place_info(placeId, metadata)\n",
    "                    break\n",
    "        return placeList, placeDict\n",
    "    \n",
    "    # Get a list of placeIds that userId has reviewed\n",
    "    reviewed_list = ratingdata.loc[ratingdata['userId'] == userId, 'placeId']\n",
    "    # Remove the placeIds that userId has review from list of all placeIds\n",
    "    placeId_list = np.setdiff1d(placeId_list, reviewed_list)\n",
    "     \n",
    "    thresh = get_thresh(userId)\n",
    "    \n",
    "    for trail in range(numTrail):\n",
    "        # Remove the placeIds in placeList\n",
    "        placeId_list = np.setdiff1d(placeId_list, placeList)\n",
    "        random.shuffle(placeId_list)\n",
    "        for placeId in placeId_list:\n",
    "            rating_1 = predict_review(userId, placeId, model_1, metadata)\n",
    "            rating_2 = predict_review(userId, placeId, model_2, metadata)\n",
    "            if rating_1 >= thresh and rating_2 >= thresh:\n",
    "                placeList.extend([placeId])\n",
    "                placeDict[trail] = get_place_info(placeId, metadata)\n",
    "                break\n",
    "    \n",
    "    # If list is empty\n",
    "    if len(placeList) == 0:\n",
    "        thresh = 4 # Set threshold to standard\n",
    "    \n",
    "    while len(placeList) == 0:\n",
    "        trail = 0 # Reset trail\n",
    "        for trail in range(numTrail):\n",
    "            # Remove the placeIds in placeList\n",
    "            placeId_list = np.setdiff1d(placeId_list, placeList)\n",
    "            random.shuffle(placeId_list)\n",
    "            for placeId in placeId_list:\n",
    "                rating_1 = predict_review(userId, placeId, model_1, metadata)\n",
    "                rating_2 = predict_review(userId, placeId, model_2, metadata)\n",
    "                if rating_1 >= thresh and rating_2 >= thresh:\n",
    "                    placeList.extend([placeId])\n",
    "                    placeDict[trail] = get_place_info(placeId, metadata)\n",
    "                    break\n",
    "        thresh -= 0.1\n",
    "                    \n",
    "    return placeList, placeDict"
   ]
  },
  {
   "cell_type": "raw",
   "metadata": {},
   "source": [
    "uiList, uiDict = generate_recommendation(3000, svd, knnwm, itemdata, 5)"
   ]
  },
  {
   "cell_type": "raw",
   "metadata": {},
   "source": [
    "uiList"
   ]
  },
  {
   "cell_type": "raw",
   "metadata": {},
   "source": [
    "uiDict"
   ]
  },
  {
   "cell_type": "markdown",
   "metadata": {},
   "source": [
    "---\n",
    "\n",
    "# Notes from here on"
   ]
  },
  {
   "cell_type": "markdown",
   "metadata": {},
   "source": [
    "## Recommendation System\n",
    "\n",
    "https://kerpanic.wordpress.com/2018/03/26/a-gentle-guide-to-recommender-systems-with-surprise/ \n",
    "\n",
    "https://towardsdatascience.com/how-to-build-a-memory-based-recommendation-system-using-python-surprise-55f3257b2cf4#_=_\n",
    "\n",
    "- A recommendation engine filters the data using different algorithms and recommends the most relevant items to users. It first captures the past behavior of a customer and based on that, recommends products which the users might be likely to buy.\n",
    "- Data can be collected by two means: explicitly and implicitly. \n",
    "- The amount of data dictates how good the recommendations of the model can get. (e.g. In a movie recommendation system, the more ratings users give to movies, the better the recommendations get for other users.) The type of data plays an important role in deciding the type of storage that has to be used which could include a standard SQL database, a NoSQL database or some kind of object storage.\n",
    "- Filter the data."
   ]
  },
  {
   "cell_type": "markdown",
   "metadata": {},
   "source": [
    "Recommender systems are generally divided into two main categories: collaborative filtering and content-based filtering.\n",
    "\n",
    "- **Collaborative filtering methods** for recommender systems are methods that are solely based on the past interactions between users and the target items. Thus, the input to a collaborative filtering system will be all historical data of user interactions with target items. This data is typically stored in a matrix where the rows are the users, and the columns are the items. The core idea behind such systems is that the historical data of the users should be enough to make a prediction.     \n",
    "\n",
    "\n",
    "- Beyond this, collaborative filtering methods are further divided into two sub-groups: memory-based and model-based methods.\n",
    "  \n",
    "    a. **Memory-based methods** are the most simplistic as they use no model whatsoever. They assume that predictions can be made on   pure “memory” of past data and usually just employ a simple distance-measurement approach, like nearest neighbour.\n",
    "\n",
    "    b. **Model-based approaches**, on the other hand, always assume some kind of underlying model and basically try to make sure that   whatever predictions come out will fit the model well. \n",
    "  \n",
    "  \n",
    "- **Content-based filtering** in contrast to collaborative filtering, will use additional information about the user and / or items to make predictions. More similar to classical machine learning, in the sense that we will build features based on user and item data and use that to help us make predictions. System input is then the features of the user and the features of the item."
   ]
  },
  {
   "cell_type": "markdown",
   "metadata": {},
   "source": [
    "### Content-based Filtering (Incorporated)\n",
    "\n",
    "Example: User enjoys three games that are designed by Vlaada Chvátil, so we recommend a fourth game designed by him.\n",
    "\n",
    "https://www.kaggle.com/arushikhokharr/a-beginner-s-guide-to-recommendation-systems#MAKING-THE-RECOMMENDATION-FUNCTION (Content-based recommendation system)\n",
    "\n",
    "Consider Netflix. All the information (past behaviour) related to each user becomes the profile vector. All the information (details) related to movies is stored in another vector called the item vector.\n",
    "\n",
    "- Content-based filtering algorithm finds the cosine of the angle between the profile vector and item vector, i.e. cosine similarity. Based on the cosine value, which ranges between -1 to 1, the movies are arranged in descending order and one of the two below approaches is used for recommendations:\n",
    "\n",
    "> Top-n approach: where the top n movies are recommended (Here n can be decided by the business)\n",
    "Rating scale approach: Where a threshold is set and all the movies above that threshold are recommended.\n",
    "\n",
    "> Euclidean Distance: Similar items will lie in close proximity to each other if plotted in n-dimensional space. So, we can calculate the distance between items and based on that distance, recommend items to the user.\n",
    "\n",
    ">Pearson’s Correlation: It tells us how much two items are correlated. Higher the correlation, more will be the similarity.\n",
    "\n",
    "Major drawback of this algorithm is that it is limited to recommending items that are of the same type -> a very narrow way of building an engine."
   ]
  },
  {
   "cell_type": "markdown",
   "metadata": {},
   "source": [
    "### Collaborative filtering (For our project)\n",
    "\n",
    "Example: User enjoys Caverna, from our analysis of the population we know that those users who enjoy Caverna AND know about Feast for Odin tend to enjoy the second game too, so we recommend FfO to the user.\n",
    "\n",
    "### User-User collaborative filtering\n",
    "\n",
    "\n",
    "This algorithm first finds the similarity score between users. Based on this similarity score, it then picks out the most similar users and recommends products which these similar users have liked or bought previously. The prediction of an item for a user u is calculated by computing the weighted sum of the user ratings given by other users to an item i. Based on the ratings for users in profile vector, we have to predict the ratings for other users. These are the following steps:\n",
    "\n",
    "    1. For predictions we need the similarity between the user u and v. We can make use of Pearson correlation.\n",
    "    2. First we find the items rated by both the users and based on the ratings, correlation between the users  is calculated. \n",
    "    3. The predictions can be calculated using the similarity values. This algorithm, first of all calculates   the similarity between each user and then based on each similarity calculates the predictions. Users having higher correlation will tend to be similar.\n",
    "    4. Based on these prediction values, recommendations are made.\n",
    "\n",
    "\n",
    "Useful when the number of users is lesser. Not effective when there are a large number of users as it will take a lot of time to compute the similarity between all user pairs. Time consuming as it involves calculating the similarity for each user and then calculating prediction for each similarity score. One way of handling this problem is to select only a few users (neighbors) instead of all to make predictions. There are various ways to select the neighbors:\n",
    "\n",
    "> Select a threshold similarity and choose all the users above that value  \n",
    "\n",
    "> Randomly select the users       \n",
    "\n",
    "> Arrange the neighbors in descending order of their similarity value and choose top-N users     \n",
    "\n",
    "> Use clustering for choosing neighbors       "
   ]
  },
  {
   "cell_type": "markdown",
   "metadata": {},
   "source": [
    "### Item-Item collaborative filtering\n",
    "\n",
    "Compute the similarity between each pair of items. Works similar to user-user collaborative filtering with just a little change – instead of taking the weighted sum of ratings of “user-neighbors”, we take the weighted sum of ratings of “item-neighbors”. Here the mean item rating is the average of all the ratings given to a particular item. Instead of finding the user-user similarity as we saw earlier, we find the item-item similarity. To do this, first we need to find such users who have rated those items and based on the ratings, similarity between the items is calculated.\n",
    "\n",
    "- Note: If a new user or a new item is added in the dataset? It is called a Cold Start. There can be two types of cold start:\n",
    "\n",
    "> Visitor Cold Start: New user is introduced in the dataset. Basic approach could be to apply a popularity based strategy, i.e. recommend the most popular products. These can be determined by what has been popular recently overall or regionally. Once we know the preferences of the user, recommending products will be easier.\n",
    "\n",
    "> Product Cold Start: New product is launched in the market or added to the system. User action is most important to determine the value of any product. The more interaction a product receives, the easier it is for our model to recommend that product to the right user. We can make use of Content based filtering to solve this problem. The system first uses the content of the new product for recommendations and then eventually the user actions on that product.\n",
    "\n",
    "---"
   ]
  },
  {
   "cell_type": "markdown",
   "metadata": {},
   "source": [
    "\n",
    "### Matrix Factorisation \n",
    "\n",
    "This method works by trying to factorise the matrix 𝑅 into two lower dimensional matrices 𝑈 and 𝑉, so that 𝑅=𝑈ᵀ𝑉.\n",
    "\n",
    "Matrix factorization can be seen as breaking down a large matrix into a product of smaller ones. In the case of matrices, a matrix R with dimensions m x n can be reduced to a product of two matrices U and V with dimensions m x p and p x n respectively. \n",
    "\n",
    "Note: In matrix multiplication, a matrix U can be multiplied by V only if the number of columns in U is equal to the number of rows in V. Therefore the two reduced matrices have a common dimension p."
   ]
  },
  {
   "cell_type": "markdown",
   "metadata": {},
   "source": [
    "#### Background \n",
    "\n",
    "Why do we need Matrix Factorisation?\n",
    "\n",
    "The data input for a recommender system can be thought of as a large matrix, with the rows indicating an entry for a user, and the columns indicating an entry for a particular item. Let’s call this matrix 𝑅. Then entry 𝑅𝒾𝑗 will contain the score that user 𝒾 has given to item 𝑗.\n",
    "\n",
    "This (full) matrix contains a lot of missing information as it is nearly impossible for a user to review/buy every item in the matrix. Recommender systems aim to fill in this missing information, by predicting the user score of items where the score is missing. Then recommender systems will recommend items to the user that have the highest score. \n",
    "\n",
    "Factorisation is made much more difficult by all the missing data. Imputing the data might work, but it makes the methods very slow. So, most popular methods focus only on the matrix entries 𝑅𝒾𝑗 that are known, and fit the factorisation to minimise the error of these known 𝑅𝒾𝑗. A problem with doing this though is that predictions will be bad because of overfitting. The methods used to get around this is by using a procedure known as regularisation, which is a common way to reduce overfitting. \n",
    "\n",
    "Hence, most matrices as data input are **sparse matrices** (full matrix without those missing infos)."
   ]
  },
  {
   "cell_type": "markdown",
   "metadata": {},
   "source": [
    "**Example: Item Based (Recommend based on similarity between items)**\n",
    "- Assume that in a user vector (u, v), u represents how much a user likes the Horror genre, and v represents how much they like the Romance genre.\n",
    "\n",
    "- The user vector (2, -1) thus represents a user who likes horror movies and rates them positively and dislikes movies that have romance and rates them negatively.\n",
    "\n",
    "- Assume that in an item vector (i, j), i represents how much a movie belongs to the Horror genre, and j represents how much that movie belongs to the Romance genre.\n",
    "\n",
    "- The movie (2.5, 1) has a Horror rating of 2.5 and a Romance rating of 1. Multiplying it by the user vector using matrix multiplication rules gives you (2 * 2.5) + (-1 * 1) = 4.\n",
    "\n",
    "The number of latent factors affects the recommendations in a manner where the greater the number of factors, the more personalized the recommendations become. But too many factors can lead to overfitting in the model. The above example has 2 latent factors.\n",
    "\n",
    "Note: The user vectors form the U matrix and the item vectors form the V matrix. By multiplying U and V, the resulting matrix gives us the predicted rating.\n",
    "\n",
    "---"
   ]
  },
  {
   "cell_type": "markdown",
   "metadata": {},
   "source": [
    "### k-Fold Cross-Validation\n",
    "\n",
    "Cross-validation is a resampling procedure used to evaluate machine learning models on a limited data sample.\n",
    "\n",
    "The procedure has a single parameter called k that refers to the number of groups that a given data sample is to be split into. As such, the procedure is often called k-fold cross-validation. When a specific value for k is chosen, it may be used in place of k in the reference to the model, such as k=10 becoming 10-fold cross-validation.\n",
    "\n",
    "Cross-validation is primarily used in applied machine learning to estimate the skill of a machine learning model on unseen data. That is, to use a limited sample in order to estimate how the model is expected to perform in general when used to make predictions on data not used during the training of the model.\n",
    "\n",
    "It is a popular method because it is simple to understand and because it generally results in a less biased or less optimistic estimate of the model skill than other methods, such as a simple train/test split.\n",
    "\n",
    "The general procedure is as follows:\n",
    "\n",
    "1. Shuffle the dataset randomly.      \n",
    "2. Split the dataset into k groups     \n",
    "3. For each unique group:     \n",
    " - Take the group as a hold out or test data set       \n",
    " - Take the remaining groups as a training data set        \n",
    "- Fit a model on the training set and evaluate it on the test set         \n",
    "- Retain the evaluation score and discard the model        \n",
    "4. Summarize the skill of the model using the sample of model evaluation scores         \n",
    "\n",
    "Importantly, each observation in the data sample is assigned to an individual group and stays in that group for the duration of the procedure. This means that each sample is given the opportunity to be used in the hold out set 1 time and used to train the model k-1 times.\n"
   ]
  },
  {
   "cell_type": "markdown",
   "metadata": {},
   "source": [
    "#### Configuration of k\n",
    "\n",
    "The k value must be chosen carefully for your data sample.\n",
    "\n",
    "A poorly chosen value for k may result in a mis-representative idea of the skill of the model, such as a score with a high variance (that may change a lot based on the data used to fit the model), or a high bias, such as an overestimate of the skill of the model.\n",
    "\n",
    "Three common tactics for choosing a value for k are as follows:\n",
    "\n",
    "- Representative: The value for k is chosen such that each train/test group of data samples is large enough to be statistically representative of the broader dataset.         \n",
    "- k=10: The value for k is fixed to 10, a value that has been found through experimentation to generally result in a model skill estimate with low bias and modest variance.              \n",
    "- k=n: The value for k is fixed to n, where n is the size of the dataset to give each test sample an opportunity to be used in the hold out dataset. This approach is called leave-one-out cross-validation.               \n",
    "\n",
    "https://machinelearningmastery.com/k-fold-cross-validation/\n",
    "\n",
    "---"
   ]
  },
  {
   "cell_type": "markdown",
   "metadata": {},
   "source": [
    "### GridSearchCV\n",
    "\n",
    "https://surprise.readthedocs.io/en/stable/getting_started.html#tune-algorithm-parameters-with-gridsearchcv\n",
    "\n",
    "The GridSearchCV class computes accuracy metrics for an algorithm on various combinations of parameters, over a cross-validation procedure. It is the process of performing hyperparameter tuning in order to determine the optimal values for a given model. This is useful for finding the best set of parameters for a prediction algorithm. It is analogous to GridSearchCV from scikit-learn. Finding the optimal values manually could take a considerable amount of time and resources and thus we use GridSearchCV to automate the tuning of hyperparameters.\n",
    "\n",
    "Relevant Parameters:\t\n",
    "> **algo_class** (AlgoBase) – The class of the algorithm to evaluate.(e.g. SVD, KNN)       \n",
    "> **param_grid** (dict) – Dictionary with algorithm parameters as keys and list of values as keys. All combinations will be evaluated with desired algorithm.           \n",
    "> **measures** (list of string) – The performance measures to compute. Allowed names are function names as defined in the accuracy module. \n",
    "> **cv** (cross-validation iterator, int or None) – Determines how the data parameter will be split (i.e. how trainsets and testsets will be defined). If an int is passed, KFold is used with the appropriate n_splits parameter. If None, KFold is used with n_splits=5.      "
   ]
  },
  {
   "cell_type": "raw",
   "metadata": {},
   "source": [
    "class surprise.model_selection.search.GridSearchCV(algo_class, param_grid, measures=[u'rmse', u'mae'], cv=None, refit=False, return_train_measures=False, n_jobs=1, pre_dispatch=u'2*n_jobs', joblib_verbose=0"
   ]
  },
  {
   "cell_type": "markdown",
   "metadata": {},
   "source": [
    "---\n",
    "\n",
    "### SVD\n",
    "\n",
    "One of the popular algorithms to factorize a matrix is the singular value decomposition (SVD) algorithm. \n",
    "\n",
    "The mathematical explanation of SVD: http://snap.stanford.edu/class/cs246-2015/slides/06-dim_red.pdf"
   ]
  },
  {
   "cell_type": "markdown",
   "metadata": {},
   "source": [
    "https://en.wikipedia.org/wiki/Singular_value_decomposition\n",
    "\n",
    "Starting with an input matrix A, SVD actually factorizes the original matrix into three matrices as demonstrated in the equation below. \n",
    "\n",
    "A = U$\\sum$V$^{T}$ : unique\n",
    "\n",
    "We can map these new matrices to the rating matrix R and the item and user factors Q and P as follows:\n",
    "\n",
    "A = R, Q = U, P^T = $\\sum$V$^{T}$\n",
    "\n",
    "> R : Rating matrix     \n",
    "> Q : User matrix     \n",
    "> P : Item matrix     \n",
    "\n",
    "U: user-to-factor similarities\n",
    "V: item-to-factor similarities\n",
    "$\\sum$ : strength of each item\n",
    "\n",
    "Aim is dimensionality reduction to minimise construction error."
   ]
  },
  {
   "cell_type": "markdown",
   "metadata": {},
   "source": [
    "https://surprise.readthedocs.io/en/stable/matrix_factorization.html\n",
    "\n",
    "Relevant parameters:\n",
    "> **n_factors** – The number of factors. Default is 100.                           \n",
    "> **n_epochs** – The number of iteration of the SVD procedure. Default is 20.                         \n",
    "> **biased** (bool) – Whether to use baselines (or biases). Default is True.                          \n",
    "> **init_mean** – The mean of the normal distribution for factor vectors initialization. Default is 0.                         \n",
    "> **init_std_dev** – The standard deviation of the normal distribution for factor vectors initialization. Default is 0.1.    \n",
    "> **lr_all** – The learning rate for all parameters. Default is 0.005.              \n",
    "> **reg_all** – The regularization term for all parameters. Default is 0.02.                 "
   ]
  },
  {
   "cell_type": "markdown",
   "metadata": {},
   "source": [
    "---\n",
    "\n",
    "### KNN\n",
    "\n",
    "https://towardsdatascience.com/how-to-build-a-memory-based-recommendation-system-using-python-surprise-55f3257b2cf4\n",
    "\n",
    "**Model Parameters**\n",
    "\n",
    "There are 2 hyperparameters we can tune: the k parameter, and the similarity option.\n",
    "\n",
    "The k parameter is fairly straightforward, and analogous to how it works in general k-nearest neighbours models. It is the upper limit of similar items we want the algorithm to consider. e.g. If the user rated 20 games, but we set k to 10, when we estimate a rating to a new game, only those 10 games out of 20 that are the closest to the new game will be considered. You can also set min_k, if a user does not have enough ratings, the global average will be used for estimations. As a default, it’s 1. Similar to floor and ceiling functions.\n",
    "\n",
    "> **k** (int) – The (max) number of neighbors to take into account for aggregation. Default is 40.        \n",
    "> **min_k** (int) – The minimum number of neighbors to take into account for aggregation. If there are not enough neighbors, the prediction is set to the global mean of all ratings. Default is 1.       \n",
    "\n",
    "The second hyperparameter, the similarity option, defines the way to calculate the distance between items.\n",
    "**sim_option configuration**:\n",
    "This parameter is a dictionary, with the following keys:\n",
    "> **shrinkage**: Not needed for basic kNN models, only comes in play with the KNNBaseline model.      \n",
    "> **user_based**: Able to either compute how similar each item is to each other item, or do the same with the users.   \n",
    "> **min_support**: The minimum number of common points under which the similarity will be set to 0. e.g. If min_support is 10, and there are two games, only 9 users rated them both, regardless of the ratings, the two games’ similarity will be 0. Default is 1.     \n",
    "> **name**: The type of formula, to be discussed further below.     \n",
    "\n",
    "All the similarity functions will return a number between 0 and 1 to a specific (i, j) item pair. 1 means the ratings are perfectly aligned, 0 means there is no connection between the two items. For similarity metrics in the Surpr!se similarity module refer to the link above. The pearson formula is basically the mean-centered version of the cosine formula. Cosine similarity is a measure of similarity between two non-zero vectors of an inner product space that measures the cosine of the angle between them.\n",
    "\n",
    "Note: MSD is the Mean Squared Difference similarity between all pairs of users (or items)."
   ]
  },
  {
   "cell_type": "markdown",
   "metadata": {},
   "source": [
    "There are three variations of basic KNN models in surprise (we are not considering the fourth one, KNNBaseline here). Likewise, refer to the link above for the formulas.\n",
    "\n",
    "- classsurprise.prediction_algorithms.knns.KNNBasic(k=40, min_k=1, sim_options={}, verbose=True, **kwargs)\n",
    "\n",
    "A basic collaborative filtering algorithm. The estimated rating is basically a weighted average of the ratings the user gave to similar items, weighted by the similarities.\n",
    "\n",
    "- classsurprise.prediction_algorithms.knns.KNNWithMeans(k=40, min_k=1, sim_options={}, verbose=True, **kwargs)\n",
    "\n",
    "A basic collaborative filtering algorithm, taking into account the mean ratings of each user. Adjusts KNNBasic formulas with average ratings of items.\n",
    "\n",
    "- classsurprise.prediction_algorithms.knns.KNNWithZScore(k=40, min_k=1, sim_options={}, verbose=True, **kwargs)\n",
    "\n",
    "A basic collaborative filtering algorithm, taking into account the z-score normalization of each user. Takes things one step further, also adjusts with the standard deviations of the ratings.\n",
    "\n",
    "- classsurprise.prediction_algorithms.knns.KNNBaseline(k=40, min_k=1, sim_options={}, bsl_options={}, verbose=True, **kwargs)\n",
    "\n",
    "A basic collaborative filtering algorithm taking into account a baseline rating."
   ]
  },
  {
   "cell_type": "markdown",
   "metadata": {},
   "source": [
    "https://surprise.readthedocs.io/en/stable/knn_inspired.html"
   ]
  },
  {
   "cell_type": "markdown",
   "metadata": {},
   "source": [
    "---\n",
    "\n",
    "## Surprise Recommendation System\n"
   ]
  },
  {
   "cell_type": "markdown",
   "metadata": {},
   "source": [
    "An open-source Python library that makes it easy for developers to build recommender systems with explicit rating data. Provide various ready-to-use prediction algorithms such as baseline algorithms, neighborhood methods, matrix factorization-based (SVD, PMF, SVD++, NMF), and many others. Also, various similarity measures (cosine, MSD, pearson…) are built-in.\n",
    "\n",
    "Surprise offers four options for measuring similarity:\n",
    "- Cosine similarity\n",
    "- Mean Squared Difference (MSD)\n",
    "- Pearson Correlation Coefficient\n",
    "- Pearson Baseline (basically Pearson correlation, but adjusted for the number of variables and observations)\n",
    "\n",
    "Please note that surprise does not support implicit ratings or content-based information."
   ]
  },
  {
   "cell_type": "markdown",
   "metadata": {},
   "source": [
    "Note: From Google: Sparse matrix is a matrix which contains very few non-zero elements. When a sparse matrix is represented with a 2-dimensional array, we waste a lot of space to represent that matrix. For example, consider a matrix of size 100 X 100 containing only 10 non-zero elements. "
   ]
  },
  {
   "cell_type": "markdown",
   "metadata": {},
   "source": [
    "Website providing trail codes: https://surprise.readthedocs.io/en/stable/getting_started.html"
   ]
  },
  {
   "cell_type": "markdown",
   "metadata": {},
   "source": [
    "---\n",
    "\n",
    "### Websites /-unread\n",
    "\n",
    "Sites that are helpful.\n",
    "\n",
    "Check out JinglesCode for presentation and visualisation of EDA. (e.g. Airbnb)\n",
    "\n",
    "Sites that could be helpful but may not be as relevant. \n",
    "\n",
    "https://towardsdatascience.com/building-a-food-recommendation-system-90788f78691a (Machine Learning to prevent and treat cancer through nutrition)\n",
    "\n",
    "https://rstudio-pubs-static.s3.amazonaws.com/291845_d0953e0af88047668dc06b3d4e50aa1a.html (Difficult to understand and does not use Surpr!se)"
   ]
  },
  {
   "cell_type": "markdown",
   "metadata": {},
   "source": [
    "## NOT IMPLEMENTED"
   ]
  },
  {
   "cell_type": "raw",
   "metadata": {},
   "source": [
    "# Collaborative filtering w Graph Lab"
   ]
  },
  {
   "cell_type": "raw",
   "metadata": {},
   "source": [
    "import graphlab\n",
    "\n",
    "# Load up the data with pandas\n",
    "r_cols = ['user_id', 'food_item', 'rating']\n",
    "train_data_df = pd.read_csv('train_data.csv', sep='\\t', names=r_cols)\n",
    "test_data_df = pd.read_csv('test_data.csv', sep='\\t', names=r_cols)\n",
    "\n",
    "# Convert the pandas dataframes to graph lab SFrames\n",
    "train_data = graphlab.SFrame(train_data_df)\n",
    "test_data = graphlab.SFrame(test_data_df)\n",
    "\n",
    "# Train the model\n",
    "collab_filter_model = graphlab.item_similarity_recommender.create(train_data, \n",
    "                                                                  user_id='user_id', \n",
    "                                                                  item_id='food_item', \n",
    "                                                                  target='rating', \n",
    "                                                                  similarity_type='cosine')\n",
    "                                                                  \n",
    "# Make recommendations\n",
    "which_user_ids = [1, 2, 3, 4]\n",
    "how_many_recommendations = 5\n",
    "item_recomendation = collab_filter_model.recommend(users=which_user_ids,\n",
    "                                                   k=how_many_recommendations)"
   ]
  },
  {
   "cell_type": "raw",
   "metadata": {},
   "source": [
    "# Building Collaborative Filtering from scratch"
   ]
  },
  {
   "cell_type": "raw",
   "metadata": {},
   "source": [
    "# Check the number of unique users and food\n",
    "n_users = ratings.user_id.unique().shape[0]\n",
    "n_items = ratings.food_id.unique().shape[0]\n",
    "\n",
    "# Create a User-Item Matrix for calculating the similarity between users and items\n",
    "data_matrix = np.zeros((n_users, n_items))\n",
    "for line in ratings.itertuples():\n",
    "    data_matrix[line[1]-1, line[2]-1] = line[3]\n",
    "    \n",
    "# pairwise_distances function from sklearn to calculate the cosine similarity\n",
    "from sklearn.metrics.pairwise import pairwise_distances \n",
    "user_similarity = pairwise_distances(data_matrix, metric='cosine')\n",
    "item_similarity = pairwise_distances(data_matrix.T, metric='cosine')\n",
    "'''Note: This gives us item-item and user-user similarity in an array form'''\n",
    "\n",
    "# Create function that makes predictions based on these similarities\n",
    "def predict(ratings, similarity, type='user'):\n",
    "    if type == 'user':\n",
    "        mean_user_rating = ratings.mean(axis=1)\n",
    "        #We use np.newaxis so that mean_user_rating has same format as ratings\n",
    "        ratings_diff = (ratings - mean_user_rating[:, np.newaxis])\n",
    "        pred = mean_user_rating[:, np.newaxis] + similarity.dot(ratings_diff) / np.array([np.abs(similarity).sum(axis=1)]).T\n",
    "    elif type == 'item':\n",
    "        pred = ratings.dot(similarity) / np.array([np.abs(similarity).sum(axis=1)])\n",
    "    return pred\n",
    "    \n",
    "user_prediction = predict(data_matrix, user_similarity, type='user')\n",
    "item_prediction = predict(data_matrix, item_similarity, type='item')"
   ]
  },
  {
   "cell_type": "markdown",
   "metadata": {},
   "source": [
    "Turicrate: a library which generates all these recommendations automatically. Learn how to create a recommendation engine using turicreate in Python from https://github.com/apple/turicreate/blob/master/README.md."
   ]
  }
 ],
 "metadata": {
  "kernelspec": {
   "display_name": "Python 3",
   "language": "python",
   "name": "python3"
  },
  "language_info": {
   "codemirror_mode": {
    "name": "ipython",
    "version": 3
   },
   "file_extension": ".py",
   "mimetype": "text/x-python",
   "name": "python",
   "nbconvert_exporter": "python",
   "pygments_lexer": "ipython3",
   "version": "3.8.5"
  }
 },
 "nbformat": 4,
 "nbformat_minor": 4
}
